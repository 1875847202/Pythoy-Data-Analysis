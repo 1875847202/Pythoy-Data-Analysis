{
 "cells": [
  {
   "cell_type": "code",
   "execution_count": 4,
   "metadata": {},
   "outputs": [
    {
     "data": {
      "text/plain": [
       "'\\npandas常用数据结构\\n数据获取和保存\\n数据筛选\\n'"
      ]
     },
     "execution_count": 4,
     "metadata": {},
     "output_type": "execute_result"
    }
   ],
   "source": [
    "\"\"\"\n",
    "Outline：\n",
    "        1.pandas常用数据结构\n",
    "        2.数据获取和保存\n",
    "        3.数据筛选\n",
    "\"\"\""
   ]
  },
  {
   "cell_type": "code",
   "execution_count": 9,
   "metadata": {},
   "outputs": [],
   "source": [
    "import pandas as pd\n",
    "import numpy as np"
   ]
  },
  {
   "cell_type": "markdown",
   "metadata": {},
   "source": [
    "# 常用数据结构"
   ]
  },
  {
   "cell_type": "code",
   "execution_count": 7,
   "metadata": {},
   "outputs": [
    {
     "data": {
      "text/plain": [
       "'\\nSeries    （相当于DataFrame的列）\\nDataFrame（相当于excel的表格）\\n\\n'"
      ]
     },
     "execution_count": 7,
     "metadata": {},
     "output_type": "execute_result"
    }
   ],
   "source": [
    "\"\"\"\n",
    "Series     （相当于DataFrame的列）\n",
    "DataFrame  （相当于excel的表格）\n",
    "\n",
    "\"\"\""
   ]
  },
  {
   "cell_type": "code",
   "execution_count": 59,
   "metadata": {},
   "outputs": [
    {
     "data": {
      "text/plain": [
       "0     1\n",
       "1     2\n",
       "2     3\n",
       "3    45\n",
       "4     6\n",
       "5     6\n",
       "6     7\n",
       "dtype: int64"
      ]
     },
     "execution_count": 59,
     "metadata": {},
     "output_type": "execute_result"
    }
   ],
   "source": [
    "#创建Series\n",
    "\n",
    "Series_1 = pd.Series([1,2,3,45,6,6,7])   #其中放列表\n",
    "Series_1"
   ]
  },
  {
   "cell_type": "code",
   "execution_count": 22,
   "metadata": {},
   "outputs": [],
   "source": [
    "Series_2 = pd.Series([1,2,3,4,5.3,6],index = ['a','b','c','d','e','f'],name='Title')"
   ]
  },
  {
   "cell_type": "code",
   "execution_count": 23,
   "metadata": {},
   "outputs": [
    {
     "data": {
      "text/plain": [
       "a    1.0\n",
       "b    2.0\n",
       "c    3.0\n",
       "d    4.0\n",
       "e    5.3\n",
       "f    6.0\n",
       "Name: Title, dtype: float64"
      ]
     },
     "execution_count": 23,
     "metadata": {},
     "output_type": "execute_result"
    }
   ],
   "source": [
    "Series_2"
   ]
  },
  {
   "cell_type": "code",
   "execution_count": 60,
   "metadata": {},
   "outputs": [
    {
     "data": {
      "text/plain": [
       "((9,),\n",
       " 0     1\n",
       " 1     2\n",
       " 2     3\n",
       " 3    45\n",
       " 4     6\n",
       " 5     7\n",
       " 6     8\n",
       " 7     8\n",
       " 8     8\n",
       " dtype: int32)"
      ]
     },
     "execution_count": 60,
     "metadata": {},
     "output_type": "execute_result"
    }
   ],
   "source": [
    "series = pd.Series(np.array([1,2,3,45,6,7,8,8,8]))\n",
    "series.shape,series"
   ]
  },
  {
   "cell_type": "code",
   "execution_count": 46,
   "metadata": {},
   "outputs": [
    {
     "data": {
      "text/plain": [
       "(2,)"
      ]
     },
     "execution_count": 46,
     "metadata": {},
     "output_type": "execute_result"
    }
   ],
   "source": [
    "series_3 = pd.Series({'beijing':2.8,\"shanghai\":3.44})\n",
    "series_3.shape"
   ]
  },
  {
   "cell_type": "code",
   "execution_count": 63,
   "metadata": {},
   "outputs": [
    {
     "name": "stdout",
     "output_type": "stream",
     "text": [
      "[2.8  3.44]\n",
      "Index(['beijing', 'shanghai'], dtype='object')\n",
      "float64\n",
      "1\n",
      "0     1\n",
      "1     2\n",
      "2     3\n",
      "3    45\n",
      "4     6\n",
      "5     7\n",
      "6     8\n",
      "7     8\n",
      "8     8\n",
      "0     1\n",
      "1     2\n",
      "2     3\n",
      "3    45\n",
      "4     6\n",
      "5     6\n",
      "6     7\n",
      "dtype: int64\n"
     ]
    }
   ],
   "source": [
    "#常用属性\n",
    "print(series_3.values)   #输出值\n",
    "print(series_3.index)    #输出索引\n",
    "print(series_3.dtype)    #数据类型\n",
    "print(series_3.ndim)     #数据阶数（因为Series是一个列）\n",
    "print(series.append(Series_1))  #两个Series拼接"
   ]
  },
  {
   "cell_type": "code",
   "execution_count": 44,
   "metadata": {},
   "outputs": [],
   "source": [
    "#也可以通过切片来访问"
   ]
  },
  {
   "cell_type": "code",
   "execution_count": 49,
   "metadata": {},
   "outputs": [
    {
     "data": {
      "text/plain": [
       "beijing     2.80\n",
       "shanghai    3.44\n",
       "tianjing    2.00\n",
       "yangzhou    3.70\n",
       "fnegtian    3.10\n",
       "dtype: float64"
      ]
     },
     "execution_count": 49,
     "metadata": {},
     "output_type": "execute_result"
    }
   ],
   "source": [
    "series_4 = pd.Series({'beijing':2.8,\"shanghai\":3.44,'tianjing':2.0,'yangzhou':3.7,'fnegtian':3.1})\n",
    "series_4"
   ]
  },
  {
   "cell_type": "code",
   "execution_count": 54,
   "metadata": {},
   "outputs": [
    {
     "data": {
      "text/plain": [
       "(beijing     2.80\n",
       " shanghai    3.44\n",
       " tianjing    2.00\n",
       " dtype: float64,\n",
       " beijing     2.80\n",
       " shanghai    3.44\n",
       " tianjing    2.00\n",
       " dtype: float64)"
      ]
     },
     "execution_count": 54,
     "metadata": {},
     "output_type": "execute_result"
    }
   ],
   "source": [
    "#切片访问(字典的键就是索引)\n",
    "series_4['beijing':'tianjing'],series_4[0:3]"
   ]
  },
  {
   "cell_type": "code",
   "execution_count": 57,
   "metadata": {},
   "outputs": [
    {
     "data": {
      "text/plain": [
       "beijing     2.80\n",
       "shanghai    3.44\n",
       "tianjing    2.00\n",
       "yangzhou    3.70\n",
       "fnegtian    3.10\n",
       "四川          2.30\n",
       "长沙          3.14\n",
       "dtype: float64"
      ]
     },
     "execution_count": 57,
     "metadata": {},
     "output_type": "execute_result"
    }
   ],
   "source": [
    "series_5 = pd.Series({'四川':2.3,\"长沙\":3.14})\n",
    "#Series拼接\n",
    "\n",
    "series_4.append(series_5)"
   ]
  }
 ],
 "metadata": {
  "kernelspec": {
   "display_name": "Python 3",
   "language": "python",
   "name": "python3"
  },
  "language_info": {
   "codemirror_mode": {
    "name": "ipython",
    "version": 3
   },
   "file_extension": ".py",
   "mimetype": "text/x-python",
   "name": "python",
   "nbconvert_exporter": "python",
   "pygments_lexer": "ipython3",
   "version": "3.8.5"
  }
 },
 "nbformat": 4,
 "nbformat_minor": 4
}
